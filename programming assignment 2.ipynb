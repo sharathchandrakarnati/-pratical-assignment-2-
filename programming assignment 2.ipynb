{
 "cells": [
  {
   "cell_type": "code",
   "execution_count": 5,
   "id": "527655ed",
   "metadata": {},
   "outputs": [
    {
     "name": "stdout",
     "output_type": "stream",
     "text": [
      "Ente the kilo  meter5\n",
      "5.0  kilometers is equal to 3.106855\n"
     ]
    }
   ],
   "source": [
    "#1.Write a Python program to convert kilometers to miles?\n",
    "k_m = float(input(\"Ente the kilo  meter\"))\n",
    "conversion = k_m* 0.621371\n",
    "print(str(k_m),\" kilometers is equal to\", str(conversion))"
   ]
  },
  {
   "cell_type": "code",
   "execution_count": 6,
   "id": "02c43989",
   "metadata": {},
   "outputs": [
    {
     "name": "stdout",
     "output_type": "stream",
     "text": [
      "please enter the celsius34\n",
      "34.0 In Fahrenheit 93.2\n"
     ]
    }
   ],
   "source": [
    "#Write a Python program to convert Celsius to Fahrenheit?\n",
    "cel = float(input(\"please enter the celsius\"))\n",
    "faren = (cel * 1.8) + 32\n",
    "print(str(cel), \"In Fahrenheit\" , str(faren))\n",
    "            \n",
    "            "
   ]
  },
  {
   "cell_type": "code",
   "execution_count": 7,
   "id": "7468937f",
   "metadata": {},
   "outputs": [
    {
     "name": "stdout",
     "output_type": "stream",
     "text": [
      " please enter the first number to swap2\n",
      "please enter the second number to swap3\n",
      "first number after swap 3 second number after swap 2\n"
     ]
    }
   ],
   "source": [
    "#Write a Python program to swap two variables without temp variable?\n",
    "first_number = int(input(\" please enter the first number to swap\"))\n",
    "second_number = int(input(\"please enter the second number to swap\"))\n",
    "##swapping witout tmp variable \n",
    "first_number ,second_number = second_number , first_number\n",
    "print(\"first number after swap\",first_number, \"second number after swap\",second_number )"
   ]
  },
  {
   "cell_type": "code",
   "execution_count": 19,
   "id": "a03c3c11",
   "metadata": {},
   "outputs": [],
   "source": [
    "#Write a Python program to solve quadratic equation?\n",
    "import math \n",
    "\n",
    "def quatradicequations(a,b,c):\n",
    "    c = b*2 - 4 * a *c \n",
    "    squart = math.sqrt(abs(c))\n",
    "    \n",
    "    if c >0:\n",
    "        print(\" real and different roots \") \n",
    "        print((-b + squart)/(2 *a))\n",
    "        print((-b + squart)/(2 *a))\n",
    "    elif c==0:\n",
    "        print(\"real and same roots\")\n",
    "        print(-b / (2 * a)) \n",
    "    else:\n",
    "        print(\"Complex Roots\") \n",
    "        print(- b / (2 * a), \" + \", squart) \n",
    "        print(- b / (2 * a), \" - \", squart)\n",
    "         "
   ]
  },
  {
   "cell_type": "code",
   "execution_count": 20,
   "id": "aee73670",
   "metadata": {},
   "outputs": [
    {
     "name": "stdout",
     "output_type": "stream",
     "text": [
      "Complex Roots\n",
      "-0.5555555555555556  +  4.1952353926806065\n",
      "-0.5555555555555556  -  4.1952353926806065\n"
     ]
    }
   ],
   "source": [
    "quatradicequations(1.8,2,3)"
   ]
  },
  {
   "cell_type": "code",
   "execution_count": 4,
   "id": "645ccd34",
   "metadata": {},
   "outputs": [
    {
     "name": "stdout",
     "output_type": "stream",
     "text": [
      "enter the month3\n",
      "please enter the year2023\n",
      "March 2023\n",
      "Su Mo Tu We Th Fr Sa\n",
      "         01 02 03 04 \n",
      "05 06 07 08 09 10 11 \n",
      "12 13 14 15 16 17 18 \n",
      "19 20 21 22 23 24 25 \n",
      "26 27 28 29 30 31 "
     ]
    }
   ],
   "source": [
    "mm = int(input(\"enter the month\"))\n",
    "yy = int(input(\"please enter the year\"))\n",
    "  \n",
    "month ={1:'January', 2:'February', 3:'March', \n",
    "        4:'April', 5:'May', 6:'June', 7:'July',\n",
    "        8:'August', 9:'September', 10:'October',\n",
    "        11:'November', 12:'December'}\n",
    "   \n",
    "# code below for calculation of odd days\n",
    "day =(yy-1)% 400\n",
    "day = (day//100)*5 + ((day % 100) - (day % 100)//4) + ((day % 100)//4)*2\n",
    "day = day % 7\n",
    "  \n",
    "nly =[31, 28, 31, 30, 31, 30, \n",
    "      31, 31, 30, 31, 30, 31]\n",
    "ly =[31, 29, 31, 30, 31, 30, \n",
    "     31, 31, 30, 31, 30, 31]\n",
    "s = 0\n",
    "  \n",
    "if yy % 4 == 0:\n",
    "    for i in range(mm-1):\n",
    "        s+= ly[i]\n",
    "else:\n",
    "    for i in range(mm-1):\n",
    "        s+= nly[i]\n",
    "  \n",
    "day += s % 7\n",
    "day = day % 7\n",
    "   \n",
    "space =''\n",
    "space = space.rjust(2, ' ')\n",
    "  \n",
    "# code below is to print the calendar\n",
    "print(month[mm], yy)\n",
    "print('Su', 'Mo', 'Tu', 'We', 'Th', 'Fr', 'Sa')\n",
    "  \n",
    "if mm == 9 or mm == 4 or mm == 6 or mm == 11: \n",
    "    for i in range(31 + day):\n",
    "          \n",
    "        if i<= day:\n",
    "            print(space, end =' ')\n",
    "        else:\n",
    "            print(\"{:02d}\".format(i-day), end =' ')\n",
    "            if (i + 1)% 7 == 0:\n",
    "                print()\n",
    "elif mm == 2:\n",
    "    if yy % 4 == 0:\n",
    "        p = 30\n",
    "    else:\n",
    "        p = 29\n",
    "          \n",
    "    for i in range(p + day):\n",
    "        if i<= day:\n",
    "            print(space, end =' ')\n",
    "        else:\n",
    "            print(\"{:02d}\".format(i-day), end =' ')\n",
    "            if (i + 1)% 7 == 0:\n",
    "                print() \n",
    "else:\n",
    "    for i in range(32 + day):\n",
    "          \n",
    "        if i<= day:\n",
    "            print(space, end =' ')\n",
    "        else:\n",
    "            print(\"{:02d}\".format(i-day), end =' ')\n",
    "            if (i + 1)% 7 == 0:\n",
    "                print()"
   ]
  }
 ],
 "metadata": {
  "kernelspec": {
   "display_name": "Python 3 (ipykernel)",
   "language": "python",
   "name": "python3"
  },
  "language_info": {
   "codemirror_mode": {
    "name": "ipython",
    "version": 3
   },
   "file_extension": ".py",
   "mimetype": "text/x-python",
   "name": "python",
   "nbconvert_exporter": "python",
   "pygments_lexer": "ipython3",
   "version": "3.9.12"
  }
 },
 "nbformat": 4,
 "nbformat_minor": 5
}
